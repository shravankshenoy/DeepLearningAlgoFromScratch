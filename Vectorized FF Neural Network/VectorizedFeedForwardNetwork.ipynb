{
 "cells": [
  {
   "cell_type": "code",
   "execution_count": 1,
   "metadata": {},
   "outputs": [],
   "source": [
    "import numpy as np\n",
    "import matplotlib.pyplot as plt\n",
    "\n",
    "%matplotlib inline"
   ]
  },
  {
   "cell_type": "code",
   "execution_count": 2,
   "metadata": {},
   "outputs": [],
   "source": [
    "from sklearn.datasets import make_blobs\n",
    "from sklearn.model_selection import train_test_split\n",
    "from sklearn.metrics import log_loss\n",
    "from sklearn.metrics import accuracy_score"
   ]
  },
  {
   "cell_type": "code",
   "execution_count": 3,
   "metadata": {},
   "outputs": [],
   "source": [
    "from tqdm import tqdm_notebook"
   ]
  },
  {
   "cell_type": "code",
   "execution_count": null,
   "metadata": {},
   "outputs": [],
   "source": []
  },
  {
   "cell_type": "code",
   "execution_count": null,
   "metadata": {},
   "outputs": [],
   "source": []
  },
  {
   "cell_type": "markdown",
   "metadata": {},
   "source": [
    "Why is vectorization prefered?"
   ]
  },
  {
   "cell_type": "markdown",
   "metadata": {},
   "source": [
    "1. It reduces time of execution drastically by exploititng parallelism\n",
    "2. Code length reduces drastically"
   ]
  },
  {
   "cell_type": "markdown",
   "metadata": {},
   "source": [
    "SIMD (Single Instruction Multiple Data) Instructions"
   ]
  },
  {
   "cell_type": "markdown",
   "metadata": {},
   "source": [
    "SIMD (Single Instruction Multiple Data) is an instruction set available mostly on all current processors. SIMD instructions give data-level parallelism on a unit (vector of data). A single instruction is executed in parallel on multiple data points as opposed to executing multiple instructions. This improves the performance of application.\n",
    "\n",
    "Consider two arrays A and B that store integers. You want to sum corresponding elements in A and B and store the results in array C:\n",
    "\n",
    "something like C[i] = A[i] + B[i] in a loop.\n",
    "\n",
    "In every iteration of the loop there will be 2 load, 1 store and 1 add instruction. I am obviously glossing over effects of CPU caching to explain the topic.\n",
    "\n",
    "Doing the same work leveraging SIMD instruction set will take less number of CPU instructions since each instruction will process multiple elements. To be specific, with SIMD instruction set that has 128 bit register, we can do the processing on 4 integers at a time:\n",
    "\n",
    "a)A single load instruction to get 4 values of A into a 128 bit SIMD register\n",
    "\n",
    "b)A single load instruction to get 4 values of B into a 128 bit SIMD register\n",
    "\n",
    "c)A single add instruction to add corresponding values in both register.\n",
    "\n",
    "Source : https://www.quora.com/What-is-SIMD/answer/Siddharth-Teotia"
   ]
  },
  {
   "cell_type": "code",
   "execution_count": 4,
   "metadata": {},
   "outputs": [],
   "source": [
    "rows  = 100\n",
    "col = 50\n",
    "a = np.random.randn(rows,col)\n",
    "b = np.random.randn(rows,col)\n",
    "c = np.zeros((rows,col))\n"
   ]
  },
  {
   "cell_type": "code",
   "execution_count": 5,
   "metadata": {},
   "outputs": [
    {
     "name": "stdout",
     "output_type": "stream",
     "text": [
      "Wall time: 24 ms\n"
     ]
    }
   ],
   "source": [
    "%%time\n",
    "\n",
    "for i in range(rows):\n",
    "    for j in range(col):\n",
    "        c[i,j] = a[i,j] + b[i,j]"
   ]
  },
  {
   "cell_type": "code",
   "execution_count": 6,
   "metadata": {},
   "outputs": [
    {
     "name": "stdout",
     "output_type": "stream",
     "text": [
      "Wall time: 0 ns\n"
     ]
    }
   ],
   "source": [
    "%%time \n",
    "\n",
    "c= a + b\n"
   ]
  },
  {
   "cell_type": "markdown",
   "metadata": {},
   "source": [
    "Notice the difference in times. Numpy internally does parallelism to execute code faster"
   ]
  },
  {
   "cell_type": "code",
   "execution_count": 7,
   "metadata": {},
   "outputs": [
    {
     "name": "stdout",
     "output_type": "stream",
     "text": [
      "Wall time: 48.2 ms\n"
     ]
    }
   ],
   "source": [
    "%%time\n",
    "\n",
    "for i in range(rows):\n",
    "    for j in range(col):\n",
    "        c[i,j] = np.sin(a[i,j])"
   ]
  },
  {
   "cell_type": "code",
   "execution_count": 8,
   "metadata": {},
   "outputs": [
    {
     "name": "stdout",
     "output_type": "stream",
     "text": [
      "Wall time: 0 ns\n"
     ]
    }
   ],
   "source": [
    "%%time\n",
    "\n",
    "c = np.sin(a)"
   ]
  },
  {
   "cell_type": "markdown",
   "metadata": {},
   "source": [
    "operation overloading broadcasting"
   ]
  },
  {
   "cell_type": "markdown",
   "metadata": {},
   "source": [
    "<h3> FF Neural Network Class </h3>"
   ]
  },
  {
   "cell_type": "code",
   "execution_count": 9,
   "metadata": {},
   "outputs": [],
   "source": [
    "class FeedForwardNeuralNetwork:\n",
    "    def __init__(self):\n",
    "        self.W1 = np.random.randn(2,2) #first weight matrix\n",
    "        self.W2 = np.random.randn(2,4) #second weight matrix\n",
    "        self.B1 = np.zeros((1,2))\n",
    "        self.B2 = np.zeros((1,4))\n",
    "   \n",
    "    def sigmoid(self,x):\n",
    "        \n",
    "        return 1.0/(1.0 + np.exp(-x))\n",
    "        \n",
    "    def softmax(self,x):\n",
    "        exps = np.exp(x) # each element of vector x is raised to the power of e\n",
    "        return exps/np.sum(exps)\n",
    "    \n",
    "    def forward_pass(self,x):\n",
    "        x = x.reshape(1,-1) # reshape such that x becomes a single row\n",
    "        self.A1 = np.matmul(x,self.W1) + self.B1#(1,2)\n",
    "        self.H1 = self.sigmoid(self.A1) #(1,2)\n",
    "        self.A2 = np.matmul(self.H1, self.W2) + self.B2#(1,4)\n",
    "        self.H2 = self.softmax(self.A2)#(1,4)\n",
    "        \n",
    "        return self.H2\n",
    "    \n",
    "    def grad_sigmoid(self,x):\n",
    "        return x*(1-x)\n",
    "    \n",
    "    def grad(self, x ,y):\n",
    "        self.forward_pass(x)\n",
    "        x = x.reshape(1,-1)\n",
    "        y = y.reshape(1,-1)\n",
    "        \n",
    "        self.dA2 = self.H2 - y # (1,4) - (1,4) => (1,4)\n",
    "        \n",
    "        self.dW2 = np.matmul(self.H1.T , self.dA2) # (2,1) * (1,4) => (2,4) \n",
    "        self.dB2 = self.dA2 # (1,4)\n",
    "        self.dH1 = np.matmul(self.dA2, self.W2.T ) # (1,4 )  *(4 ,2)   => (1,2)\n",
    "        # np.multiply does element wise multiplication i.e Hadamard product\n",
    "        self.dA1 = np.multiply(self.dH1 , self.grad_sigmoid(self.H1)) # (1,2)\n",
    "        #self.dW1 = np.matmul(self.dA1.T ,x) #(2,1) * (1,2) => 2*2\n",
    "        self.dW1 = np.matmul(x.T , self.dA1) #(2,1) * (1,2) => (2*2)\n",
    "        \n",
    "        self.dB1 = self.dA1\n",
    " \n",
    "    def fit(self, X, Y, epochs=1, learning_rate=1, display_loss=False):\n",
    "      \n",
    "        if display_loss:\n",
    "            loss = {}\n",
    "    \n",
    "        for i in tqdm_notebook(range(epochs), total=epochs, unit=\"epoch\"):\n",
    "            dW1 = np.zeros((2,2))\n",
    "            dW2 = np.zeros((2,4))\n",
    "            dB1 = np.zeros((1,2))\n",
    "            dB2 = np.zeros((1,4))\n",
    "            for x, y in zip(X, Y):\n",
    "                self.grad(x, y)\n",
    "                dW1 += self.dW1\n",
    "                dW2 += self.dW2\n",
    "                dB1 += self.dB1\n",
    "                dB2 += self.dB2  \n",
    "        \n",
    "            m = X.shape[0]\n",
    "            self.W2 -= learning_rate * (dW2/m)\n",
    "            self.B2 -= learning_rate * (dB2/m)\n",
    "            self.W1 -= learning_rate * (dW1/m)\n",
    "            self.B1 -= learning_rate * (dB1/m)\n",
    " \n",
    "            if display_loss:\n",
    "                Y_pred = self.predict(X)\n",
    "                loss[i] = log_loss(np.argmax(Y, axis=1), Y_pred)\n",
    "        \n",
    "    \n",
    "        if display_loss:\n",
    "            plt.plot(loss.values())\n",
    "            plt.xlabel('Epochs')\n",
    "            plt.ylabel('Log Loss')\n",
    "            plt.show()\n",
    "\n",
    "    def predict(self, X):\n",
    "        Y_pred = []\n",
    "        for x in X:\n",
    "            y_pred = self.forward_pass(x)\n",
    "            Y_pred.append(y_pred)\n",
    "        return np.array(Y_pred).squeeze()"
   ]
  },
  {
   "cell_type": "markdown",
   "metadata": {},
   "source": [
    "NOTE: In np.matmul use dimensions to decide which is the first and which is the second input to the function"
   ]
  },
  {
   "cell_type": "code",
   "execution_count": 10,
   "metadata": {},
   "outputs": [],
   "source": [
    "#np.matmul(np.array([1,2]),np.array([[1,0],[0,1]]))"
   ]
  },
  {
   "cell_type": "code",
   "execution_count": null,
   "metadata": {},
   "outputs": [],
   "source": []
  },
  {
   "cell_type": "markdown",
   "metadata": {},
   "source": [
    "<h3> Generate Data </h3>"
   ]
  },
  {
   "cell_type": "code",
   "execution_count": 11,
   "metadata": {},
   "outputs": [
    {
     "data": {
      "text/plain": [
       "(array([[-0.31448666, -2.82038836, -5.65319622],\n",
       "        [-1.24453408, -3.99600414,  1.58246113],\n",
       "        [ 2.76675082, -0.63238913, -2.33082522],\n",
       "        [-1.94536167, -4.07701661, -4.21013878],\n",
       "        [ 0.96389246, -2.97984333, -0.536916  ],\n",
       "        [ 0.49376042, -3.30574696, -3.68546509],\n",
       "        [-3.24921037, -4.6021277 ,  2.98530781]]),\n",
       " array([0, 2, 1, 0, 1, 0, 2]))"
      ]
     },
     "execution_count": 11,
     "metadata": {},
     "output_type": "execute_result"
    }
   ],
   "source": [
    "make_blobs(n_samples = 7, centers = 3, n_features = 3) "
   ]
  },
  {
   "cell_type": "code",
   "execution_count": 12,
   "metadata": {},
   "outputs": [],
   "source": [
    "data, labels = make_blobs(n_samples = 800, centers = 4 , n_features = 2)"
   ]
  },
  {
   "cell_type": "code",
   "execution_count": 13,
   "metadata": {},
   "outputs": [
    {
     "data": {
      "text/plain": [
       "<matplotlib.collections.PathCollection at 0x10f87290>"
      ]
     },
     "execution_count": 13,
     "metadata": {},
     "output_type": "execute_result"
    },
    {
     "data": {
      "image/png": "[encoded data removed]",
      "text/plain": [
       "<matplotlib.figure.Figure at 0x10f2e910>"
      ]
     },
     "metadata": {},
     "output_type": "display_data"
    }
   ],
   "source": [
    "plt.scatter(data[:,0],data[:,1] , c=labels)\n",
    "            "
   ]
  },
  {
   "cell_type": "code",
   "execution_count": null,
   "metadata": {},
   "outputs": [],
   "source": []
  },
  {
   "cell_type": "markdown",
   "metadata": {},
   "source": [
    "<h3> Training FF Neural Network and Using Model </h3>"
   ]
  },
  {
   "cell_type": "code",
   "execution_count": 14,
   "metadata": {},
   "outputs": [],
   "source": [
    "X_train,X_val, Y_train, Y_val =  train_test_split(data,labels, test_size = 0.2, stratify = labels)"
   ]
  },
  {
   "cell_type": "code",
   "execution_count": 15,
   "metadata": {},
   "outputs": [],
   "source": [
    "from sklearn.preprocessing import OneHotEncoder"
   ]
  },
  {
   "cell_type": "markdown",
   "metadata": {},
   "source": [
    "We have to one hot encode the output before we feed it to the neural network for training"
   ]
  },
  {
   "cell_type": "code",
   "execution_count": 16,
   "metadata": {},
   "outputs": [],
   "source": [
    "enc = OneHotEncoder()"
   ]
  },
  {
   "cell_type": "code",
   "execution_count": 17,
   "metadata": {},
   "outputs": [
    {
     "name": "stderr",
     "output_type": "stream",
     "text": [
      "c:\\users\\dell\\appdata\\local\\programs\\python\\python36-32\\lib\\site-packages\\sklearn\\preprocessing\\_encoders.py:363: FutureWarning: The handling of integer data will change in version 0.22. Currently, the categories are determined based on the range [0, max(values)], while in the future they will be determined based on the unique values.\n",
      "If you want the future behaviour and silence this warning, you can specify \"categories='auto'\".\n",
      "In case you used a LabelEncoder before this OneHotEncoder to convert the categories to integers, then you can now use the OneHotEncoder directly.\n",
      "  warnings.warn(msg, FutureWarning)\n",
      "c:\\users\\dell\\appdata\\local\\programs\\python\\python36-32\\lib\\site-packages\\sklearn\\preprocessing\\_encoders.py:363: FutureWarning: The handling of integer data will change in version 0.22. Currently, the categories are determined based on the range [0, max(values)], while in the future they will be determined based on the unique values.\n",
      "If you want the future behaviour and silence this warning, you can specify \"categories='auto'\".\n",
      "In case you used a LabelEncoder before this OneHotEncoder to convert the categories to integers, then you can now use the OneHotEncoder directly.\n",
      "  warnings.warn(msg, FutureWarning)\n"
     ]
    }
   ],
   "source": [
    "Y_OH_train = enc.fit_transform(np.expand_dims(Y_train,1)).toarray()\n",
    "Y_OH_val = enc.fit_transform(np.expand_dims(Y_val,1)).toarray()\n",
    "# 1 => (1,0,0,0)\n",
    "# 2 => (0,1,0,0)\n",
    "# 3 => (0,0,1,0)"
   ]
  },
  {
   "cell_type": "code",
   "execution_count": 18,
   "metadata": {},
   "outputs": [],
   "source": [
    "ffnn = FeedForwardNeuralNetwork()"
   ]
  },
  {
   "cell_type": "code",
   "execution_count": 19,
   "metadata": {},
   "outputs": [
    {
     "data": {
      "application/vnd.jupyter.widget-view+json": {
       "model_id": "9ad7ac067d924fce99cb27d7c2c67466",
       "version_major": 2,
       "version_minor": 0
      },
      "text/html": [
       "<p>Failed to display Jupyter Widget of type <code>HBox</code>.</p>\n",
       "<p>\n",
       "  If you're reading this message in the Jupyter Notebook or JupyterLab Notebook, it may mean\n",
       "  that the widgets JavaScript is still loading. If this message persists, it\n",
       "  likely means that the widgets JavaScript library is either not installed or\n",
       "  not enabled. See the <a href=\"https://ipywidgets.readthedocs.io/en/stable/user_install.html\">Jupyter\n",
       "  Widgets Documentation</a> for setup instructions.\n",
       "</p>\n",
       "<p>\n",
       "  If you're reading this message in another frontend (for example, a static\n",
       "  rendering on GitHub or <a href=\"https://nbviewer.jupyter.org/\">NBViewer</a>),\n",
       "  it may mean that your frontend doesn't currently support widgets.\n",
       "</p>\n"
      ],
      "text/plain": [
       "HBox(children=(IntProgress(value=0, max=1000), HTML(value='')))"
      ]
     },
     "metadata": {},
     "output_type": "display_data"
    },
    {
     "name": "stdout",
     "output_type": "stream",
     "text": [
      "\n"
     ]
    },
    {
     "data": {
      "image/png": "[encoded data removed]",
      "text/plain": [
       "<matplotlib.figure.Figure at 0x10f6e0d0>"
      ]
     },
     "metadata": {},
     "output_type": "display_data"
    }
   ],
   "source": [
    "ffnn.fit(X_train, Y_OH_train, epochs = 1000, learning_rate = 0.1 , display_loss=True)"
   ]
  },
  {
   "cell_type": "code",
   "execution_count": 20,
   "metadata": {},
   "outputs": [
    {
     "name": "stdout",
     "output_type": "stream",
     "text": [
      "Training accuracy 0.98\n",
      "Validation accuracy 0.98\n"
     ]
    }
   ],
   "source": [
    "Y_pred_train = ffnn.predict(X_train)\n",
    "Y_pred_train = np.argmax(Y_pred_train,1)\n",
    "\n",
    "Y_pred_val = ffnn.predict(X_val)\n",
    "Y_pred_val = np.argmax(Y_pred_val,1)\n",
    "\n",
    "accuracy_train = accuracy_score(Y_pred_train, Y_train)\n",
    "accuracy_val = accuracy_score(Y_pred_val, Y_val)\n",
    "\n",
    "print(\"Training accuracy\", round(accuracy_train, 2))\n",
    "print(\"Validation accuracy\", round(accuracy_val, 2))"
   ]
  },
  {
   "cell_type": "code",
   "execution_count": 21,
   "metadata": {},
   "outputs": [
    {
     "data": {
      "text/plain": [
       "<matplotlib.collections.PathCollection at 0x1211b90>"
      ]
     },
     "execution_count": 21,
     "metadata": {},
     "output_type": "execute_result"
    },
    {
     "data": {
      "image/png": "[encoded data removed]",
      "text/plain": [
       "<matplotlib.figure.Figure at 0x10f1e470>"
      ]
     },
     "metadata": {},
     "output_type": "display_data"
    }
   ],
   "source": [
    "plt.scatter(X_val[:,0],X_val[:,1], c= Y_pred_val)"
   ]
  },
  {
   "cell_type": "code",
   "execution_count": null,
   "metadata": {},
   "outputs": [],
   "source": []
  },
  {
   "cell_type": "code",
   "execution_count": null,
   "metadata": {},
   "outputs": [],
   "source": []
  },
  {
   "cell_type": "code",
   "execution_count": null,
   "metadata": {},
   "outputs": [],
   "source": []
  },
  {
   "cell_type": "code",
   "execution_count": null,
   "metadata": {},
   "outputs": [],
   "source": []
  },
  {
   "cell_type": "code",
   "execution_count": null,
   "metadata": {},
   "outputs": [],
   "source": []
  },
  {
   "cell_type": "code",
   "execution_count": null,
   "metadata": {},
   "outputs": [],
   "source": []
  },
  {
   "cell_type": "code",
   "execution_count": null,
   "metadata": {},
   "outputs": [],
   "source": []
  },
  {
   "cell_type": "code",
   "execution_count": null,
   "metadata": {},
   "outputs": [],
   "source": []
  },
  {
   "cell_type": "code",
   "execution_count": 22,
   "metadata": {},
   "outputs": [
    {
     "data": {
      "text/plain": [
       "array([1, 2, 1], dtype=int32)"
      ]
     },
     "execution_count": 22,
     "metadata": {},
     "output_type": "execute_result"
    }
   ],
   "source": [
    "np.argmax([[1,0,0],[2,3,4],[0,5,2]],axis = 0) # Gives index of maximum element in each column"
   ]
  },
  {
   "cell_type": "code",
   "execution_count": 23,
   "metadata": {},
   "outputs": [
    {
     "data": {
      "text/plain": [
       "array([0, 2, 1], dtype=int32)"
      ]
     },
     "execution_count": 23,
     "metadata": {},
     "output_type": "execute_result"
    }
   ],
   "source": [
    "np.argmax([[1,0,0],[2,3,4],[0,5,2]],axis = 1) # Gives index of the maximum element in each row"
   ]
  },
  {
   "cell_type": "markdown",
   "metadata": {},
   "source": [
    "Axes are defined for arrays with more than one dimension. A 2-dimensional array has two corresponding axes: the first running vertically downwards across rows (axis 0), and the second running horizontally across columns (axis 1). ... Collapsed to a one-dimensional array. See numpy.ndarray.flatten for details.\n"
   ]
  },
  {
   "cell_type": "code",
   "execution_count": null,
   "metadata": {},
   "outputs": [],
   "source": []
  }
 ],
 "metadata": {
  "kernelspec": {
   "display_name": "Python 3",
   "language": "python",
   "name": "python3"
  },
  "language_info": {
   "codemirror_mode": {
    "name": "ipython",
    "version": 3
   },
   "file_extension": ".py",
   "mimetype": "text/x-python",
   "name": "python",
   "nbconvert_exporter": "python",
   "pygments_lexer": "ipython3",
   "version": "3.6.4"
  }
 },
 "nbformat": 4,
 "nbformat_minor": 2
}
